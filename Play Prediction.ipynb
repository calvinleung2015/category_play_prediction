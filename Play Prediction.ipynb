{
 "cells": [
  {
   "cell_type": "code",
   "execution_count": 1,
   "metadata": {},
   "outputs": [],
   "source": [
    "import gzip\n",
    "import random\n",
    "from collections import defaultdict\n",
    "from sklearn.model_selection import train_test_split"
   ]
  },
  {
   "cell_type": "code",
   "execution_count": 2,
   "metadata": {},
   "outputs": [],
   "source": [
    "def parse(f):\n",
    "    for l in gzip.open(f):\n",
    "        yield eval(l)\n",
    "dataset = list(parse('train.json.gz'))"
   ]
  },
  {
   "cell_type": "code",
   "execution_count": 3,
   "metadata": {},
   "outputs": [],
   "source": [
    "def readJSON(path):\n",
    "    for l in gzip.open(path, 'rt'):\n",
    "        d = eval(l)\n",
    "        u = d['userID']\n",
    "        try:\n",
    "            g = d['gameID']\n",
    "        except Exception as e:\n",
    "            g = None\n",
    "        yield u,g,d"
   ]
  },
  {
   "cell_type": "code",
   "execution_count": 4,
   "metadata": {},
   "outputs": [
    {
     "data": {
      "text/plain": [
       "175000"
      ]
     },
     "execution_count": 4,
     "metadata": {},
     "output_type": "execute_result"
    }
   ],
   "source": [
    "#shuffling data\n",
    "random.shuffle(dataset)\n",
    "len(dataset)"
   ]
  },
  {
   "cell_type": "code",
   "execution_count": 5,
   "metadata": {},
   "outputs": [],
   "source": [
    "train_set, validation_set = train_test_split(dataset, test_size=0.05714, random_state=42)"
   ]
  },
  {
   "cell_type": "code",
   "execution_count": 6,
   "metadata": {},
   "outputs": [],
   "source": [
    "id_game_trainSet = [(train_set[d]['userID'], train_set[d]['gameID'], 1) for d in range(len(train_set))]\n",
    "id_game_valSet_played = [(validation_set[d]['userID'], validation_set[d]['gameID'], 1) for d in range(len(validation_set))]"
   ]
  },
  {
   "cell_type": "markdown",
   "metadata": {},
   "source": [
    "1. Although we have built a validation set, it only consists of positive samples. For this task we also need examples of user/item pairs that weren’t played. For each entry (user,game) in the validation set, sample a negative entry by randomly choosing a game that user hasn't played. Evaluate the perfomance (accuracy) of the baseline model on the validation set you have built/"
   ]
  },
  {
   "cell_type": "code",
   "execution_count": 7,
   "metadata": {},
   "outputs": [],
   "source": [
    "#all game with no dulicated\n",
    "val_gameid = [ d['gameID'] for d in dataset]\n",
    "game = []\n",
    "for d in val_gameid:\n",
    "    if d not in game:\n",
    "        game.append(d) "
   ]
  },
  {
   "cell_type": "code",
   "execution_count": 8,
   "metadata": {},
   "outputs": [],
   "source": [
    "id_game_valSet_not_played = []\n",
    "for i in id_game_valSet_played:\n",
    "    while True:\n",
    "        random_game = random.choice(game)\n",
    "        while True:\n",
    "            if (i[0], random_game) in id_game_valSet_played or (i[0], random_game) in id_game_valSet_not_played:\n",
    "                random_game = random.choice(game)\n",
    "            else:\n",
    "                break\n",
    "                \n",
    "        if i[1] != random_game:\n",
    "            id_game_valSet_not_played.append((i[0], random_game, 0))\n",
    "            break\n",
    "            \n",
    "id_game_valSet = id_game_valSet_played + id_game_valSet_not_played"
   ]
  },
  {
   "cell_type": "code",
   "execution_count": 9,
   "metadata": {},
   "outputs": [],
   "source": [
    "#create a new file for is_game_valSet\n",
    "test = open(\"test.txt\", 'w')\n",
    "test.write(\"userID-gameID,prediction\\n\")\n",
    "for d in id_game_valSet:\n",
    "    test.write(d[0] + '-' + d[1] + '\\n')"
   ]
  },
  {
   "cell_type": "code",
   "execution_count": 10,
   "metadata": {},
   "outputs": [],
   "source": [
    "### Would-play baseline: just rank which games are popular and which are not, and return '1' if a game is among the top-ranked\n",
    "\n",
    "gameCount = defaultdict(int)\n",
    "totalPlayed = 0\n",
    "\n",
    "for user,game,_ in id_game_valSet:\n",
    "    gameCount[game] += 1\n",
    "    totalPlayed += 1\n",
    "\n",
    "mostPopular = [(gameCount[x], x) for x in gameCount]\n",
    "mostPopular.sort()\n",
    "mostPopular.reverse()\n",
    "\n",
    "return1 = set()\n",
    "count = 0\n",
    "for ic, i in mostPopular:\n",
    "    count += ic\n",
    "    return1.add(i)\n",
    "    if count > totalPlayed/2: break\n",
    "\n",
    "predictions = open(\"predictions_Played.txt\", 'w')\n",
    "predictions_lst = []\n",
    "for l in open(\"test.txt\"):\n",
    "    if l.startswith(\"userID\"):\n",
    "        #header\n",
    "        predictions.write(l)\n",
    "        continue\n",
    "    u,g = l.strip().split('-')\n",
    "\n",
    "    if g in return1:\n",
    "        predictions.write(u + '-' + g + \",1\\n\")\n",
    "        predictions_lst.append(1)\n",
    "    else:\n",
    "        predictions.write(u + '-' + g + \",0\\n\")\n",
    "        predictions_lst.append(0)\n",
    "\n",
    "predictions.close()"
   ]
  },
  {
   "cell_type": "code",
   "execution_count": 11,
   "metadata": {},
   "outputs": [
    {
     "data": {
      "text/plain": [
       "0.6609583820316073"
      ]
     },
     "execution_count": 11,
     "metadata": {},
     "output_type": "execute_result"
    }
   ],
   "source": [
    "#accuracy\n",
    "count = 0\n",
    "for i in range(len(predictions_lst)):\n",
    "    if predictions_lst[i] == id_game_valSet[i][2]:\n",
    "        count += 1\n",
    "accuracy = count/len(predictions_lst)\n",
    "accuracy"
   ]
  },
  {
   "cell_type": "markdown",
   "metadata": {},
   "source": [
    "2. The existing ‘played prediction’ baseline just returns True if the item in question is ‘popular,’ using a threshold of the 50th percentile of popularity (totalPlayed/2). Assuming that the ‘non-played’ test examples are a random sample of user-game pairs, this threshold may not be the best one. See if you can find a better threshold and report its performance on your validation set (1 mark)."
   ]
  },
  {
   "cell_type": "code",
   "execution_count": 12,
   "metadata": {},
   "outputs": [],
   "source": [
    "#change the threshold to totalPlayed/1.5\n",
    "### Would-play baseline: just rank which games are popular and which are not, and return '1' if a game is among the top-ranked\n",
    "\n",
    "gameCount = defaultdict(int)\n",
    "totalPlayed = 0\n",
    "\n",
    "for user,game,played in id_game_valSet:\n",
    "    if played == 1:\n",
    "        gameCount[game] += 1\n",
    "        totalPlayed += 1\n",
    "\n",
    "mostPopular = [(gameCount[x], x) for x in gameCount]\n",
    "mostPopular.sort()\n",
    "mostPopular.reverse()\n",
    "\n",
    "return1 = set()\n",
    "count = 0\n",
    "for ic, i in mostPopular:\n",
    "    count += ic\n",
    "    return1.add(i)\n",
    "    if count > totalPlayed/1.5: break\n",
    "\n",
    "predictions = open(\"predictions_Played.txt\", 'w')\n",
    "predictions_lst = []\n",
    "for l in open(\"test.txt\"):\n",
    "    if l.startswith(\"userID\"):\n",
    "        #header\n",
    "        predictions.write(l)\n",
    "        continue\n",
    "    u,g = l.strip().split('-')\n",
    "\n",
    "    if g in return1:\n",
    "        predictions.write(u + '-' + g + \",1\\n\")\n",
    "        predictions_lst.append(1)\n",
    "    else:\n",
    "        predictions.write(u + '-' + g + \",0\\n\")\n",
    "        predictions_lst.append(0)\n",
    "\n",
    "predictions.close()"
   ]
  },
  {
   "cell_type": "code",
   "execution_count": 13,
   "metadata": {},
   "outputs": [
    {
     "data": {
      "text/plain": [
       "0.7146704608974033"
      ]
     },
     "execution_count": 13,
     "metadata": {},
     "output_type": "execute_result"
    }
   ],
   "source": [
    "#accuracy\n",
    "count = 0\n",
    "for i in range(len(predictions_lst)):\n",
    "    if predictions_lst[i] == id_game_valSet[i][2]:\n",
    "        count += 1\n",
    "accuracy = count/len(predictions_lst)\n",
    "accuracy"
   ]
  },
  {
   "cell_type": "markdown",
   "metadata": {},
   "source": [
    "3. A stronger baseline than the one provided might make use of the Jaccard similarity (or another similarity metric). Given a pair (u, g) in the validation set, consider all training items g′ that user u has played. For each, compute the Jaccard similarity between g and g′, i.e., users (in the training set) who have played g and users who have played g' . Predict as ‘played’ if the maximum of these Jaccard similarities exceeds a threshold (you may choose the threshold that works best). Report the performance on your validation set (1 mark)."
   ]
  },
  {
   "cell_type": "code",
   "execution_count": 14,
   "metadata": {},
   "outputs": [],
   "source": [
    "usersPerGame = defaultdict(set)\n",
    "gamesPerUser = defaultdict(set)\n",
    "for d in id_game_trainSet:\n",
    "    user,game = d[0], d[1]\n",
    "    usersPerGame[game].add(user)\n",
    "    gamesPerUser[user].add(game)"
   ]
  },
  {
   "cell_type": "code",
   "execution_count": 15,
   "metadata": {},
   "outputs": [
    {
     "name": "stdout",
     "output_type": "stream",
     "text": [
      "threshold: 0.023 ,accuracy: 0.63625\n",
      "threshold: 0.033 ,accuracy: 0.66845\n",
      "threshold: 0.43 ,accuracy: 0.4925\n",
      "threshold: 0.53 ,accuracy: 0.4925\n"
     ]
    }
   ],
   "source": [
    "def Jaccard(s1, s2):\n",
    "    numer = len(s1.intersection(s2))\n",
    "    denom = len(s1.union(s2))\n",
    "    return numer / denom\n",
    "\n",
    "def mostSimilarFast(i, j ):\n",
    "    similarities = []\n",
    "    games = gamesPerUser[i] #the games that the user i played in the train set\n",
    "    users = usersPerGame[j] #the game j that users played in train set\n",
    "    for g in games:\n",
    "        similarities.append(Jaccard(users, usersPerGame[g]))\n",
    "    return similarities\n",
    "threshold = [0.023, 0.033, 0.43, 0.53]\n",
    "for t in threshold:\n",
    "    predict_output = []\n",
    "    for user,game,played in id_game_valSet:\n",
    "        sim = mostSimilarFast(user, game)\n",
    "        \n",
    "        if len(sim) == 0:\n",
    "            predict_output.append(0)\n",
    "            break\n",
    "        if max(sim) > t:\n",
    "            predict_output.append(1)\n",
    "        else:\n",
    "            predict_output.append(0)\n",
    "    count = 0\n",
    "    for i in range(len(predict_output)):\n",
    "        if predict_output[i] == id_game_valSet[i][2]:\n",
    "            count += 1\n",
    "    accuracy = count / len(id_game_valSet)\n",
    "    print('threshold:', t, ',accuracy:', accuracy)\n",
    "    \n",
    "predictions = open(\"predictions_Played.txt\", 'w')\n",
    "predictions_lst = []\n",
    "for l in open(\"pairs_Played.txt\"):\n",
    "    if l.startswith(\"userID\"):\n",
    "        #header\n",
    "        predictions.write(l)\n",
    "        continue\n",
    "    u,g = l.strip().split('-')\n",
    "\n",
    "    if g in return1:\n",
    "        predictions.write(u + '-' + g + \",1\\n\")\n",
    "        predictions_lst.append(1)\n",
    "    else:\n",
    "        predictions.write(u + '-' + g + \",0\\n\")\n",
    "        predictions_lst.append(0)\n",
    "\n",
    "predictions.close()"
   ]
  },
  {
   "cell_type": "markdown",
   "metadata": {},
   "source": [
    "4. Improve the above predictor by incorporating both a Jaccard-based threshold and a popularity based threshold. Report the performance on your validation set."
   ]
  },
  {
   "cell_type": "code",
   "execution_count": 16,
   "metadata": {},
   "outputs": [
    {
     "name": "stdout",
     "output_type": "stream",
     "text": [
      "threshold: 0.033 ,accuracy: 0.68395\n"
     ]
    }
   ],
   "source": [
    "def Jaccard(s1, s2):\n",
    "    numer = len(s1.intersection(s2))\n",
    "    denom = len(s1.union(s2))\n",
    "    return numer / denom\n",
    "\n",
    "def mostSimilarFast(i, j ):\n",
    "    similarities = []\n",
    "    games = gamesPerUser[i] #the games that the user i played in the train set\n",
    "    users = usersPerGame[j] #the game j that users played in train set\n",
    "    for g in games:\n",
    "        similarities.append(Jaccard(users, usersPerGame[g]))\n",
    "    return similarities\n",
    "\n",
    "\n",
    "gameCount = defaultdict(int)\n",
    "totalPlayed = 0\n",
    "\n",
    "for user,game,played in id_game_valSet:\n",
    "    if played == 1:\n",
    "        gameCount[game] += 1\n",
    "        totalPlayed += 1\n",
    "    sim = mostSimilarFast(user, game)\n",
    "\n",
    "mostPopular = [(gameCount[x], x) for x in gameCount]\n",
    "mostPopular.sort()\n",
    "mostPopular.reverse()\n",
    "\n",
    "popularity = set()\n",
    "count = 0\n",
    "for ic, i in mostPopular:\n",
    "    count += ic\n",
    "    popularity.add(i)\n",
    "    if count > totalPlayed/1.5: break\n",
    "        \n",
    "        \n",
    "\n",
    "predict_output = []\n",
    "for user,game,played in id_game_valSet:\n",
    "    sim = mostSimilarFast(user, game)\n",
    "        \n",
    "    if len(sim) == 0:\n",
    "        predict_output.append((user,game,0))\n",
    "        break\n",
    "    if max(sim) > 0.033 and game in popularity:\n",
    "        predict_output.append((user,game,1))\n",
    "    else:\n",
    "        predict_output.append((user,game,0))\n",
    "\n",
    "count = 0\n",
    "for i in range(len(predict_output)):\n",
    "    if predict_output[i][2] == id_game_valSet[i][2]:\n",
    "        count += 1\n",
    "accuracy = count / len(id_game_valSet)\n",
    "print('threshold:', 0.033, ',accuracy:', accuracy)"
   ]
  },
  {
   "cell_type": "markdown",
   "metadata": {},
   "source": [
    "5. To run our model on the test set, we’ll have to use the files ‘pairs Played.txt’ to find the reviewerID/itemID pairs about which we have to make predictions. Using that data, run the above model and upload your solution to Kaggle. Tell us your Kaggle user name (1 mark). If you’ve already uploaded a better solution to Kaggle, that’s fine too!\n"
   ]
  },
  {
   "cell_type": "code",
   "execution_count": 17,
   "metadata": {},
   "outputs": [],
   "source": [
    "def Jaccard(s1, s2):\n",
    "    numer = len(s1.intersection(s2))\n",
    "    denom = len(s1.union(s2))\n",
    "    return numer / denom\n",
    "\n",
    "def mostSimilarFast(i, j ):\n",
    "    similarities = []\n",
    "    games = gamesPerUser[i] #the games that the user i played in the train set\n",
    "    users = usersPerGame[j] #the game j that users played in train set\n",
    "    for g in games:\n",
    "        similarities.append(Jaccard(users, usersPerGame[g]))\n",
    "    return similarities\n",
    "\n",
    "\n",
    "gameCount = defaultdict(int)\n",
    "totalPlayed = 0\n",
    "\n",
    "for user,game,played in id_game_valSet:\n",
    "    if played == 1:\n",
    "        gameCount[game] += 1\n",
    "        totalPlayed += 1\n",
    "    sim = mostSimilarFast(user, game)\n",
    "\n",
    "mostPopular = [(gameCount[x], x) for x in gameCount]\n",
    "mostPopular.sort()\n",
    "mostPopular.reverse()\n",
    "\n",
    "popularity = set()\n",
    "count = 0\n",
    "for ic, i in mostPopular:\n",
    "    count += ic\n",
    "    popularity.add(i)\n",
    "    if count > totalPlayed/1.5: break\n",
    "        \n",
    "        \n",
    "predictions = open(\"predictions_Played.txt\", 'w')\n",
    "for l in open(\"pairs_Played.txt\"):\n",
    "    if l.startswith(\"userID\"):\n",
    "        #header\n",
    "        predictions.write(l)\n",
    "        continue\n",
    "    u,g = l.strip().split('-')\n",
    "    \n",
    "    sim = mostSimilarFast(u, g)\n",
    "        \n",
    "    if len(sim) == 0:\n",
    "        predictions.write(u + '-' + g + \",0\\n\")\n",
    "    elif max(sim) > 0.033 and g in popularity:\n",
    "        predictions.write(u + '-' + g + \",1\\n\")\n",
    "    else:\n",
    "        predictions.write(u + '-' + g + \",0\\n\")\n",
    "        \n",
    "predictions.close()"
   ]
  },
  {
   "attachments": {
    "Screen%20Shot%202020-11-16%20at%2010.46.17%20PM.png": {
     "image/png": "[encoded data removed]"
    }
   },
   "cell_type": "markdown",
   "metadata": {},
   "source": [
    "![Screen%20Shot%202020-11-16%20at%2010.46.17%20PM.png](attachment:Screen%20Shot%202020-11-16%20at%2010.46.17%20PM.png)"
   ]
  },
  {
   "cell_type": "code",
   "execution_count": 304,
   "metadata": {},
   "outputs": [],
   "source": []
  },
  {
   "cell_type": "code",
   "execution_count": null,
   "metadata": {},
   "outputs": [],
   "source": []
  },
  {
   "cell_type": "code",
   "execution_count": null,
   "metadata": {},
   "outputs": [],
   "source": []
  }
 ],
 "metadata": {
  "kernelspec": {
   "display_name": "Python 3",
   "language": "python",
   "name": "python3"
  },
  "language_info": {
   "codemirror_mode": {
    "name": "ipython",
    "version": 3
   },
   "file_extension": ".py",
   "mimetype": "text/x-python",
   "name": "python",
   "nbconvert_exporter": "python",
   "pygments_lexer": "ipython3",
   "version": "3.8.3"
  }
 },
 "nbformat": 4,
 "nbformat_minor": 4
}
